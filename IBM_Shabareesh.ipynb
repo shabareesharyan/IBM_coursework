{
 "cells": [
  {
   "cell_type": "markdown",
   "metadata": {
    "collapsed": true
   },
   "source": [
    "# My Jupyter Notebook on IBM Watson Studio"
   ]
  },
  {
   "cell_type": "markdown",
   "metadata": {},
   "source": [
    "**Shabareesh Aryan**  \n",
    "Data Scientist"
   ]
  },
  {
   "cell_type": "markdown",
   "metadata": {},
   "source": [
    "_`I love data science! I am interested in data science as the job profile really speaks to me. The skills required in this domain is relevant to my interests. I love building maching learning models and doing predictive analysis. I love math and I believe this is my dream job.`_"
   ]
  },
  {
   "cell_type": "markdown",
   "metadata": {},
   "source": [
    "### The following code reverses a given list of numbers"
   ]
  },
  {
   "cell_type": "code",
   "execution_count": 11,
   "metadata": {},
   "outputs": [],
   "source": [
    "def rev(n):\n",
    "    return n[::-1]"
   ]
  },
  {
   "cell_type": "code",
   "execution_count": 10,
   "metadata": {},
   "outputs": [
    {
     "name": "stdout",
     "output_type": "stream",
     "text": [
      "1 2 3 4 5\n",
      "['5', '4', '3', '2', '1']\n",
      "44 55 66 77\n",
      "['77', '66', '55', '44']\n",
      "99 33 44 66 32\n",
      "['32', '66', '44', '33', '99']\n",
      "12 23 54 67 87\n",
      "['87', '67', '54', '23', '12']\n",
      "43 65 78\n",
      "['78', '65', '43']\n"
     ]
    }
   ],
   "source": [
    "for i in range(5):\n",
    "    n = list(input().split(' '))\n",
    "    print(rev(n))"
   ]
  },
  {
   "cell_type": "markdown",
   "metadata": {},
   "source": [
    "Tested lists | Results\n",
    "--- | ---\n",
    "1 2 3 4 5 | ['5', '4', '3', '2', '1']\n",
    "44 55 66 77 | ['77', '66', '55', '44']\n",
    "99 33 44 66 32 | ['32', '66', '44', '33', '99']\n",
    "12 23 54 67 87 | ['87', '67', '54', '23', '12']\n",
    "43 65 78 | ['78', '65', '43']\n"
   ]
  },
  {
   "cell_type": "code",
   "execution_count": null,
   "metadata": {},
   "outputs": [],
   "source": []
  }
 ],
 "metadata": {
  "kernelspec": {
   "display_name": "Python 3.10",
   "language": "python",
   "name": "python3"
  },
  "language_info": {
   "codemirror_mode": {
    "name": "ipython",
    "version": 3
   },
   "file_extension": ".py",
   "mimetype": "text/x-python",
   "name": "python",
   "nbconvert_exporter": "python",
   "pygments_lexer": "ipython3",
   "version": "3.10.9"
  }
 },
 "nbformat": 4,
 "nbformat_minor": 1
}
